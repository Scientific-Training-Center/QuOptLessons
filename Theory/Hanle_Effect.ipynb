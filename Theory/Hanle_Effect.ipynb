{
 "cells": [
  {
   "attachments": {},
   "cell_type": "markdown",
   "metadata": {},
   "source": [
    "## Simulates the Hanle effect for a two-level system"
   ]
  },
  {
   "cell_type": "code",
   "execution_count": null,
   "metadata": {},
   "outputs": [],
   "source": [
    "using Plots\n",
    "\n",
    "# Constants\n",
    "γ = 1.0\n",
    "Ω = 1.0\n",
    "\n",
    "# Hanle effect simulation function\n",
    "function hanle_effect(B, N=1000)\n",
    "    # Define magnetic field range\n",
    "    Bmax = 5\n",
    "    Bmin = -5\n",
    "    Bvals = range(Bmin, stop=Bmax, length=N)\n",
    "\n",
    "    # Define polarization vector\n",
    "    P = [0, 0, 1]\n",
    "\n",
    "    # Initialize signal vector\n",
    "    S = zeros(N)\n",
    "\n",
    "    # Calculate signal for each magnetic field\n",
    "    for (i, Bval) in enumerate(Bvals)\n",
    "        # Calculate Zeeman splitting\n",
    "        ΔE = γ * Bval\n",
    "\n",
    "        # Calculate polarization rotation\n",
    "        θ = atan(Ω / ΔE)\n",
    "        R = [cos(θ)^2+(1-cos(θ)^2)*P[1]   cos(θ)*(1-cos(θ))*P[2]-sin(θ)*P[3]   cos(θ)*(1-cos(θ))*P[3]+sin(θ)*P[2];\n",
    "             cos(θ)*(1-cos(θ))*P[2]+sin(θ)*P[3]   cos(θ)^2+(1-cos(θ)^2)*P[2]   cos(θ)*(1-cos(θ))*P[1]-sin(θ)*P[3];\n",
    "             cos(θ)*(1-cos(θ))*P[3]-sin(θ)*P[2]   cos(θ)*(1-cos(θ))*P[1]+sin(θ)*P[3]   cos(θ)^2+(1-cos(θ)^2)*P[3]]\n",
    "\n",
    "        # Calculate signal\n",
    "        S[i] = abs(R[1, 1])^2 - abs(R[2, 1])^2\n",
    "    end\n",
    "\n",
    "    # Plot signal vs. magnetic field\n",
    "    plot(Bvals, S, xlabel=\"Magnetic field\", ylabel=\"Signal\", legend=false)\n",
    "end\n",
    "\n",
    "# Example usage\n",
    "hanle_effect(1.0)\n"
   ]
  },
  {
   "cell_type": "code",
   "execution_count": null,
   "metadata": {},
   "outputs": [],
   "source": [
    "using Plots\n",
    "\n",
    "# Define constants\n",
    "μB = 9.274e-24 # Bohr magneton in J/T\n",
    "kB = 1.381e-23 # Boltzmann constant in J/K\n",
    "h = 6.626e-34 # Planck constant in J s\n",
    "c = 2.998e8 # speed of light in m/s\n",
    "\n",
    "# Define the Hanle function\n",
    "function hanle(B, g, λ)\n",
    "    ξ = (g * μB * B) / (h * c * λ)\n",
    "    return (3 / (2 * ξ^2)) * (1 - (2 / (2 + ξ^2)) * exp(-2 * ξ^2))\n",
    "end\n",
    "\n",
    "# Set up the parameters\n",
    "g = 1.5 # Landé g-factor\n",
    "λ = 589e-9 # wavelength of light in meters\n",
    "T = 300 # temperature in Kelvin\n",
    "\n",
    "# Define the magnetic field range\n",
    "B_range = range(0, stop=2e-2, length=1000) # magnetic field strength in Tesla\n",
    "\n",
    "# Calculate the Hanle curve\n",
    "hanle_curve = hanle.(B_range, g, λ)\n",
    "\n",
    "# Plot the Hanle curve\n",
    "plot(B_range * 1e4, hanle_curve, xlabel=\"Magnetic Field Strength (G)\", ylabel=\"Polarization\", label=\"\", legend=:bottomright)\n"
   ]
  }
 ],
 "metadata": {
  "kernelspec": {
   "display_name": "Julia 1.8.5",
   "language": "julia",
   "name": "julia-1.8"
  },
  "language_info": {
   "file_extension": ".jl",
   "mimetype": "application/julia",
   "name": "julia",
   "version": "1.8.5"
  },
  "orig_nbformat": 4
 },
 "nbformat": 4,
 "nbformat_minor": 2
}
